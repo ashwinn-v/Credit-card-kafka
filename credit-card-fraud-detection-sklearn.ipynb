{
 "cells": [
  {
   "cell_type": "code",
   "execution_count": 106,
   "id": "07f9d17b",
   "metadata": {
    "execution": {
     "iopub.execute_input": "2021-09-02T12:25:16.984036Z",
     "iopub.status.busy": "2021-09-02T12:25:16.983374Z",
     "iopub.status.idle": "2021-09-02T12:25:17.933455Z",
     "shell.execute_reply": "2021-09-02T12:25:17.932491Z",
     "shell.execute_reply.started": "2021-09-02T11:50:17.018974Z"
    },
    "papermill": {
     "duration": 0.995691,
     "end_time": "2021-09-02T12:25:17.933607",
     "exception": false,
     "start_time": "2021-09-02T12:25:16.937916",
     "status": "completed"
    },
    "tags": []
   },
   "outputs": [],
   "source": [
    "import pandas as pd \n",
    "import numpy as np\n",
    "import matplotlib.pyplot as plt\n",
    "\n",
    "from numpy.random import RandomState\n",
    "import pickle\n",
    "\n",
    "from sklearn.preprocessing import MinMaxScaler\n",
    "from sklearn.model_selection import train_test_split\n",
    "from sklearn.metrics import accuracy_score\n",
    "from sklearn.metrics import plot_confusion_matrix\n",
    "\n",
    "# CLASSIFIERS FOR TRAINING\n",
    "from sklearn.neighbors import KNeighborsClassifier\n",
    "from sklearn.svm import SVC\n",
    "from sklearn.tree import DecisionTreeClassifier\n",
    "from sklearn.ensemble import RandomForestClassifier, AdaBoostClassifier, GradientBoostingClassifier\n",
    "from sklearn.naive_bayes import GaussianNB\n",
    "from sklearn.discriminant_analysis import LinearDiscriminantAnalysis, QuadraticDiscriminantAnalysis\n",
    "from sklearn.linear_model import LogisticRegression"
   ]
  },
  {
   "cell_type": "markdown",
   "id": "de2c15db",
   "metadata": {
    "papermill": {
     "duration": 0.032718,
     "end_time": "2021-09-02T12:25:17.999439",
     "exception": false,
     "start_time": "2021-09-02T12:25:17.966721",
     "status": "completed"
    },
    "tags": []
   },
   "source": [
    "# 2. Read data"
   ]
  },
  {
   "cell_type": "code",
   "execution_count": 107,
   "id": "8e678930",
   "metadata": {
    "execution": {
     "iopub.execute_input": "2021-09-02T12:25:18.069502Z",
     "iopub.status.busy": "2021-09-02T12:25:18.068918Z",
     "iopub.status.idle": "2021-09-02T12:25:21.536092Z",
     "shell.execute_reply": "2021-09-02T12:25:21.535532Z",
     "shell.execute_reply.started": "2021-09-02T11:50:17.041714Z"
    },
    "papermill": {
     "duration": 3.504127,
     "end_time": "2021-09-02T12:25:21.536285",
     "exception": false,
     "start_time": "2021-09-02T12:25:18.032158",
     "status": "completed"
    },
    "tags": []
   },
   "outputs": [],
   "source": [
    "df = pd.read_csv('/Users/ashwinv/Documents/SEM5/dbms/project/train.csv', header = 0)"
   ]
  },
  {
   "cell_type": "code",
   "execution_count": 108,
   "id": "be556d82",
   "metadata": {
    "execution": {
     "iopub.execute_input": "2021-09-02T12:25:21.615741Z",
     "iopub.status.busy": "2021-09-02T12:25:21.615228Z",
     "iopub.status.idle": "2021-09-02T12:25:21.644444Z",
     "shell.execute_reply": "2021-09-02T12:25:21.644030Z",
     "shell.execute_reply.started": "2021-09-02T11:50:18.905427Z"
    },
    "papermill": {
     "duration": 0.075314,
     "end_time": "2021-09-02T12:25:21.644557",
     "exception": false,
     "start_time": "2021-09-02T12:25:21.569243",
     "status": "completed"
    },
    "tags": []
   },
   "outputs": [
    {
     "data": {
      "text/html": [
       "<div>\n",
       "<style scoped>\n",
       "    .dataframe tbody tr th:only-of-type {\n",
       "        vertical-align: middle;\n",
       "    }\n",
       "\n",
       "    .dataframe tbody tr th {\n",
       "        vertical-align: top;\n",
       "    }\n",
       "\n",
       "    .dataframe thead th {\n",
       "        text-align: right;\n",
       "    }\n",
       "</style>\n",
       "<table border=\"1\" class=\"dataframe\">\n",
       "  <thead>\n",
       "    <tr style=\"text-align: right;\">\n",
       "      <th></th>\n",
       "      <th>Time</th>\n",
       "      <th>V1</th>\n",
       "      <th>V2</th>\n",
       "      <th>V3</th>\n",
       "      <th>V4</th>\n",
       "      <th>V5</th>\n",
       "      <th>V6</th>\n",
       "      <th>V7</th>\n",
       "      <th>V8</th>\n",
       "      <th>V9</th>\n",
       "      <th>...</th>\n",
       "      <th>V21</th>\n",
       "      <th>V22</th>\n",
       "      <th>V23</th>\n",
       "      <th>V24</th>\n",
       "      <th>V25</th>\n",
       "      <th>V26</th>\n",
       "      <th>V27</th>\n",
       "      <th>V28</th>\n",
       "      <th>Amount</th>\n",
       "      <th>Class</th>\n",
       "    </tr>\n",
       "  </thead>\n",
       "  <tbody>\n",
       "    <tr>\n",
       "      <th>0</th>\n",
       "      <td>0.0</td>\n",
       "      <td>-1.359807</td>\n",
       "      <td>-0.072781</td>\n",
       "      <td>2.536347</td>\n",
       "      <td>1.378155</td>\n",
       "      <td>-0.338321</td>\n",
       "      <td>0.462388</td>\n",
       "      <td>0.239599</td>\n",
       "      <td>0.098698</td>\n",
       "      <td>0.363787</td>\n",
       "      <td>...</td>\n",
       "      <td>-0.018307</td>\n",
       "      <td>0.277838</td>\n",
       "      <td>-0.110474</td>\n",
       "      <td>0.066928</td>\n",
       "      <td>0.128539</td>\n",
       "      <td>-0.189115</td>\n",
       "      <td>0.133558</td>\n",
       "      <td>-0.021053</td>\n",
       "      <td>149.62</td>\n",
       "      <td>0</td>\n",
       "    </tr>\n",
       "    <tr>\n",
       "      <th>1</th>\n",
       "      <td>0.0</td>\n",
       "      <td>1.191857</td>\n",
       "      <td>0.266151</td>\n",
       "      <td>0.166480</td>\n",
       "      <td>0.448154</td>\n",
       "      <td>0.060018</td>\n",
       "      <td>-0.082361</td>\n",
       "      <td>-0.078803</td>\n",
       "      <td>0.085102</td>\n",
       "      <td>-0.255425</td>\n",
       "      <td>...</td>\n",
       "      <td>-0.225775</td>\n",
       "      <td>-0.638672</td>\n",
       "      <td>0.101288</td>\n",
       "      <td>-0.339846</td>\n",
       "      <td>0.167170</td>\n",
       "      <td>0.125895</td>\n",
       "      <td>-0.008983</td>\n",
       "      <td>0.014724</td>\n",
       "      <td>2.69</td>\n",
       "      <td>0</td>\n",
       "    </tr>\n",
       "    <tr>\n",
       "      <th>2</th>\n",
       "      <td>1.0</td>\n",
       "      <td>-1.358354</td>\n",
       "      <td>-1.340163</td>\n",
       "      <td>1.773209</td>\n",
       "      <td>0.379780</td>\n",
       "      <td>-0.503198</td>\n",
       "      <td>1.800499</td>\n",
       "      <td>0.791461</td>\n",
       "      <td>0.247676</td>\n",
       "      <td>-1.514654</td>\n",
       "      <td>...</td>\n",
       "      <td>0.247998</td>\n",
       "      <td>0.771679</td>\n",
       "      <td>0.909412</td>\n",
       "      <td>-0.689281</td>\n",
       "      <td>-0.327642</td>\n",
       "      <td>-0.139097</td>\n",
       "      <td>-0.055353</td>\n",
       "      <td>-0.059752</td>\n",
       "      <td>378.66</td>\n",
       "      <td>0</td>\n",
       "    </tr>\n",
       "    <tr>\n",
       "      <th>3</th>\n",
       "      <td>1.0</td>\n",
       "      <td>-0.966272</td>\n",
       "      <td>-0.185226</td>\n",
       "      <td>1.792993</td>\n",
       "      <td>-0.863291</td>\n",
       "      <td>-0.010309</td>\n",
       "      <td>1.247203</td>\n",
       "      <td>0.237609</td>\n",
       "      <td>0.377436</td>\n",
       "      <td>-1.387024</td>\n",
       "      <td>...</td>\n",
       "      <td>-0.108300</td>\n",
       "      <td>0.005274</td>\n",
       "      <td>-0.190321</td>\n",
       "      <td>-1.175575</td>\n",
       "      <td>0.647376</td>\n",
       "      <td>-0.221929</td>\n",
       "      <td>0.062723</td>\n",
       "      <td>0.061458</td>\n",
       "      <td>123.50</td>\n",
       "      <td>0</td>\n",
       "    </tr>\n",
       "    <tr>\n",
       "      <th>4</th>\n",
       "      <td>2.0</td>\n",
       "      <td>-1.158233</td>\n",
       "      <td>0.877737</td>\n",
       "      <td>1.548718</td>\n",
       "      <td>0.403034</td>\n",
       "      <td>-0.407193</td>\n",
       "      <td>0.095921</td>\n",
       "      <td>0.592941</td>\n",
       "      <td>-0.270533</td>\n",
       "      <td>0.817739</td>\n",
       "      <td>...</td>\n",
       "      <td>-0.009431</td>\n",
       "      <td>0.798278</td>\n",
       "      <td>-0.137458</td>\n",
       "      <td>0.141267</td>\n",
       "      <td>-0.206010</td>\n",
       "      <td>0.502292</td>\n",
       "      <td>0.219422</td>\n",
       "      <td>0.215153</td>\n",
       "      <td>69.99</td>\n",
       "      <td>0</td>\n",
       "    </tr>\n",
       "    <tr>\n",
       "      <th>5</th>\n",
       "      <td>2.0</td>\n",
       "      <td>-0.425966</td>\n",
       "      <td>0.960523</td>\n",
       "      <td>1.141109</td>\n",
       "      <td>-0.168252</td>\n",
       "      <td>0.420987</td>\n",
       "      <td>-0.029728</td>\n",
       "      <td>0.476201</td>\n",
       "      <td>0.260314</td>\n",
       "      <td>-0.568671</td>\n",
       "      <td>...</td>\n",
       "      <td>-0.208254</td>\n",
       "      <td>-0.559825</td>\n",
       "      <td>-0.026398</td>\n",
       "      <td>-0.371427</td>\n",
       "      <td>-0.232794</td>\n",
       "      <td>0.105915</td>\n",
       "      <td>0.253844</td>\n",
       "      <td>0.081080</td>\n",
       "      <td>3.67</td>\n",
       "      <td>0</td>\n",
       "    </tr>\n",
       "    <tr>\n",
       "      <th>6</th>\n",
       "      <td>4.0</td>\n",
       "      <td>1.229658</td>\n",
       "      <td>0.141004</td>\n",
       "      <td>0.045371</td>\n",
       "      <td>1.202613</td>\n",
       "      <td>0.191881</td>\n",
       "      <td>0.272708</td>\n",
       "      <td>-0.005159</td>\n",
       "      <td>0.081213</td>\n",
       "      <td>0.464960</td>\n",
       "      <td>...</td>\n",
       "      <td>-0.167716</td>\n",
       "      <td>-0.270710</td>\n",
       "      <td>-0.154104</td>\n",
       "      <td>-0.780055</td>\n",
       "      <td>0.750137</td>\n",
       "      <td>-0.257237</td>\n",
       "      <td>0.034507</td>\n",
       "      <td>0.005168</td>\n",
       "      <td>4.99</td>\n",
       "      <td>0</td>\n",
       "    </tr>\n",
       "  </tbody>\n",
       "</table>\n",
       "<p>7 rows × 31 columns</p>\n",
       "</div>"
      ],
      "text/plain": [
       "   Time        V1        V2        V3        V4        V5        V6        V7  \\\n",
       "0   0.0 -1.359807 -0.072781  2.536347  1.378155 -0.338321  0.462388  0.239599   \n",
       "1   0.0  1.191857  0.266151  0.166480  0.448154  0.060018 -0.082361 -0.078803   \n",
       "2   1.0 -1.358354 -1.340163  1.773209  0.379780 -0.503198  1.800499  0.791461   \n",
       "3   1.0 -0.966272 -0.185226  1.792993 -0.863291 -0.010309  1.247203  0.237609   \n",
       "4   2.0 -1.158233  0.877737  1.548718  0.403034 -0.407193  0.095921  0.592941   \n",
       "5   2.0 -0.425966  0.960523  1.141109 -0.168252  0.420987 -0.029728  0.476201   \n",
       "6   4.0  1.229658  0.141004  0.045371  1.202613  0.191881  0.272708 -0.005159   \n",
       "\n",
       "         V8        V9  ...       V21       V22       V23       V24       V25  \\\n",
       "0  0.098698  0.363787  ... -0.018307  0.277838 -0.110474  0.066928  0.128539   \n",
       "1  0.085102 -0.255425  ... -0.225775 -0.638672  0.101288 -0.339846  0.167170   \n",
       "2  0.247676 -1.514654  ...  0.247998  0.771679  0.909412 -0.689281 -0.327642   \n",
       "3  0.377436 -1.387024  ... -0.108300  0.005274 -0.190321 -1.175575  0.647376   \n",
       "4 -0.270533  0.817739  ... -0.009431  0.798278 -0.137458  0.141267 -0.206010   \n",
       "5  0.260314 -0.568671  ... -0.208254 -0.559825 -0.026398 -0.371427 -0.232794   \n",
       "6  0.081213  0.464960  ... -0.167716 -0.270710 -0.154104 -0.780055  0.750137   \n",
       "\n",
       "        V26       V27       V28  Amount  Class  \n",
       "0 -0.189115  0.133558 -0.021053  149.62      0  \n",
       "1  0.125895 -0.008983  0.014724    2.69      0  \n",
       "2 -0.139097 -0.055353 -0.059752  378.66      0  \n",
       "3 -0.221929  0.062723  0.061458  123.50      0  \n",
       "4  0.502292  0.219422  0.215153   69.99      0  \n",
       "5  0.105915  0.253844  0.081080    3.67      0  \n",
       "6 -0.257237  0.034507  0.005168    4.99      0  \n",
       "\n",
       "[7 rows x 31 columns]"
      ]
     },
     "execution_count": 108,
     "metadata": {},
     "output_type": "execute_result"
    }
   ],
   "source": [
    "df.head(7) # look for first 7 rows"
   ]
  },
  {
   "cell_type": "code",
   "execution_count": 109,
   "id": "0a797acf",
   "metadata": {
    "execution": {
     "iopub.execute_input": "2021-09-02T12:25:21.716915Z",
     "iopub.status.busy": "2021-09-02T12:25:21.716422Z",
     "iopub.status.idle": "2021-09-02T12:25:21.721206Z",
     "shell.execute_reply": "2021-09-02T12:25:21.720790Z",
     "shell.execute_reply.started": "2021-09-02T11:50:18.948455Z"
    },
    "papermill": {
     "duration": 0.041642,
     "end_time": "2021-09-02T12:25:21.721315",
     "exception": false,
     "start_time": "2021-09-02T12:25:21.679673",
     "status": "completed"
    },
    "tags": []
   },
   "outputs": [
    {
     "data": {
      "text/plain": [
       "(284807, 31)"
      ]
     },
     "execution_count": 109,
     "metadata": {},
     "output_type": "execute_result"
    }
   ],
   "source": [
    "df.shape # print size of dataframe"
   ]
  },
  {
   "cell_type": "code",
   "execution_count": 110,
   "id": "20e21d3b",
   "metadata": {
    "execution": {
     "iopub.execute_input": "2021-09-02T12:25:21.824551Z",
     "iopub.status.busy": "2021-09-02T12:25:21.819368Z",
     "iopub.status.idle": "2021-09-02T12:25:21.884382Z",
     "shell.execute_reply": "2021-09-02T12:25:21.883911Z",
     "shell.execute_reply.started": "2021-09-02T11:50:18.959414Z"
    },
    "papermill": {
     "duration": 0.130424,
     "end_time": "2021-09-02T12:25:21.884636",
     "exception": false,
     "start_time": "2021-09-02T12:25:21.754212",
     "status": "completed"
    },
    "tags": []
   },
   "outputs": [],
   "source": [
    "# convert from float64 to float32 to reduce memory size\n",
    "df = df.astype({col: 'float32' for col in df.select_dtypes('float64').columns}) \n",
    "df = df.astype({col: 'int32' for col in df.select_dtypes('int64').columns}) \n",
    "# df.dtypes # print types of df"
   ]
  },
  {
   "cell_type": "markdown",
   "id": "79d37263",
   "metadata": {
    "papermill": {
     "duration": 0.033226,
     "end_time": "2021-09-02T12:25:21.952078",
     "exception": false,
     "start_time": "2021-09-02T12:25:21.918852",
     "status": "completed"
    },
    "tags": []
   },
   "source": [
    "# 3. Visualize data\n",
    "Firstly, lets see **how many records each class have**."
   ]
  },
  {
   "cell_type": "code",
   "execution_count": 111,
   "id": "6bbd8f34",
   "metadata": {
    "execution": {
     "iopub.execute_input": "2021-09-02T12:25:22.023521Z",
     "iopub.status.busy": "2021-09-02T12:25:22.023019Z",
     "iopub.status.idle": "2021-09-02T12:25:22.168255Z",
     "shell.execute_reply": "2021-09-02T12:25:22.168670Z",
     "shell.execute_reply.started": "2021-09-02T11:50:19.213562Z"
    },
    "papermill": {
     "duration": 0.183645,
     "end_time": "2021-09-02T12:25:22.168809",
     "exception": false,
     "start_time": "2021-09-02T12:25:21.985164",
     "status": "completed"
    },
    "tags": []
   },
   "outputs": [
    {
     "data": {
      "image/png": "[encoded data removed]",
      "text/plain": [
       "<Figure size 432x288 with 1 Axes>"
      ]
     },
     "metadata": {
      "needs_background": "light"
     },
     "output_type": "display_data"
    }
   ],
   "source": [
    "count_classes = df['Class'].value_counts()\n",
    "plt.title(\"Records in each class\")\n",
    "count_classes.plot(kind='bar', color='c')\n",
    "plt.xticks(rotation='horizontal')\n",
    "plt.xlabel(\"Class\")\n",
    "plt.ylabel(\"Count\")\n",
    "plt.show()"
   ]
  },
  {
   "cell_type": "markdown",
   "id": "6dc1b7d0",
   "metadata": {
    "papermill": {
     "duration": 0.033745,
     "end_time": "2021-09-02T12:25:22.236878",
     "exception": false,
     "start_time": "2021-09-02T12:25:22.203133",
     "status": "completed"
    },
    "tags": []
   },
   "source": [
    "After that we can check, **how many records were in each class during all the time**."
   ]
  },
  {
   "cell_type": "code",
   "execution_count": 112,
   "id": "d9c5a82c",
   "metadata": {
    "execution": {
     "iopub.execute_input": "2021-09-02T12:25:22.414259Z",
     "iopub.status.busy": "2021-09-02T12:25:22.379028Z",
     "iopub.status.idle": "2021-09-02T12:25:22.464810Z",
     "shell.execute_reply": "2021-09-02T12:25:22.465209Z",
     "shell.execute_reply.started": "2021-09-02T11:50:19.369018Z"
    },
    "papermill": {
     "duration": 0.194656,
     "end_time": "2021-09-02T12:25:22.465356",
     "exception": false,
     "start_time": "2021-09-02T12:25:22.270700",
     "status": "completed"
    },
    "tags": []
   },
   "outputs": [],
   "source": [
    "# all time was divided to 4 different intervals\n",
    "bins = [0, max(df['Time'])/4, max(df['Time'])/2, 3*max(df['Time'])/4, max(df['Time'])] \n",
    "time_intervals = pd.cut(df['Time'], bins=bins)"
   ]
  },
  {
   "cell_type": "code",
   "execution_count": 113,
   "id": "f2ee3f69",
   "metadata": {
    "execution": {
     "iopub.execute_input": "2021-09-02T12:25:22.542161Z",
     "iopub.status.busy": "2021-09-02T12:25:22.541643Z",
     "iopub.status.idle": "2021-09-02T12:25:22.566333Z",
     "shell.execute_reply": "2021-09-02T12:25:22.565904Z",
     "shell.execute_reply.started": "2021-09-02T11:50:19.550034Z"
    },
    "papermill": {
     "duration": 0.066952,
     "end_time": "2021-09-02T12:25:22.566457",
     "exception": false,
     "start_time": "2021-09-02T12:25:22.499505",
     "status": "completed"
    },
    "tags": []
   },
   "outputs": [
    {
     "data": {
      "text/html": [
       "<div>\n",
       "<style scoped>\n",
       "    .dataframe tbody tr th:only-of-type {\n",
       "        vertical-align: middle;\n",
       "    }\n",
       "\n",
       "    .dataframe tbody tr th {\n",
       "        vertical-align: top;\n",
       "    }\n",
       "\n",
       "    .dataframe thead th {\n",
       "        text-align: right;\n",
       "    }\n",
       "</style>\n",
       "<table border=\"1\" class=\"dataframe\">\n",
       "  <thead>\n",
       "    <tr style=\"text-align: right;\">\n",
       "      <th></th>\n",
       "      <th>Class</th>\n",
       "      <th>Time</th>\n",
       "      <th>Count</th>\n",
       "    </tr>\n",
       "  </thead>\n",
       "  <tbody>\n",
       "    <tr>\n",
       "      <th>0</th>\n",
       "      <td>0</td>\n",
       "      <td>(0.0, 43198.0]</td>\n",
       "      <td>47249</td>\n",
       "    </tr>\n",
       "    <tr>\n",
       "      <th>1</th>\n",
       "      <td>0</td>\n",
       "      <td>(43198.0, 86396.0]</td>\n",
       "      <td>97252</td>\n",
       "    </tr>\n",
       "    <tr>\n",
       "      <th>2</th>\n",
       "      <td>0</td>\n",
       "      <td>(86396.0, 129594.0]</td>\n",
       "      <td>47342</td>\n",
       "    </tr>\n",
       "    <tr>\n",
       "      <th>3</th>\n",
       "      <td>0</td>\n",
       "      <td>(129594.0, 172792.0]</td>\n",
       "      <td>92470</td>\n",
       "    </tr>\n",
       "    <tr>\n",
       "      <th>4</th>\n",
       "      <td>1</td>\n",
       "      <td>(0.0, 43198.0]</td>\n",
       "      <td>146</td>\n",
       "    </tr>\n",
       "    <tr>\n",
       "      <th>5</th>\n",
       "      <td>1</td>\n",
       "      <td>(43198.0, 86396.0]</td>\n",
       "      <td>135</td>\n",
       "    </tr>\n",
       "    <tr>\n",
       "      <th>6</th>\n",
       "      <td>1</td>\n",
       "      <td>(86396.0, 129594.0]</td>\n",
       "      <td>96</td>\n",
       "    </tr>\n",
       "    <tr>\n",
       "      <th>7</th>\n",
       "      <td>1</td>\n",
       "      <td>(129594.0, 172792.0]</td>\n",
       "      <td>115</td>\n",
       "    </tr>\n",
       "  </tbody>\n",
       "</table>\n",
       "</div>"
      ],
      "text/plain": [
       "   Class                  Time  Count\n",
       "0      0        (0.0, 43198.0]  47249\n",
       "1      0    (43198.0, 86396.0]  97252\n",
       "2      0   (86396.0, 129594.0]  47342\n",
       "3      0  (129594.0, 172792.0]  92470\n",
       "4      1        (0.0, 43198.0]    146\n",
       "5      1    (43198.0, 86396.0]    135\n",
       "6      1   (86396.0, 129594.0]     96\n",
       "7      1  (129594.0, 172792.0]    115"
      ]
     },
     "execution_count": 113,
     "metadata": {},
     "output_type": "execute_result"
    }
   ],
   "source": [
    "# and then we group data by class\n",
    "df_grouped2 = df.groupby(['Class', time_intervals]).size().reset_index(name='Count')\n",
    "df_grouped2"
   ]
  },
  {
   "cell_type": "markdown",
   "id": "8a8944e8",
   "metadata": {
    "papermill": {
     "duration": 0.034199,
     "end_time": "2021-09-02T12:25:22.635007",
     "exception": false,
     "start_time": "2021-09-02T12:25:22.600808",
     "status": "completed"
    },
    "tags": []
   },
   "source": [
    "After that, we can build **bar charts** for each class."
   ]
  },
  {
   "cell_type": "code",
   "execution_count": 114,
   "id": "bac97781",
   "metadata": {
    "execution": {
     "iopub.execute_input": "2021-09-02T12:25:22.708032Z",
     "iopub.status.busy": "2021-09-02T12:25:22.707319Z",
     "iopub.status.idle": "2021-09-02T12:25:22.723227Z",
     "shell.execute_reply": "2021-09-02T12:25:22.722782Z",
     "shell.execute_reply.started": "2021-09-02T11:50:19.589449Z"
    },
    "papermill": {
     "duration": 0.054052,
     "end_time": "2021-09-02T12:25:22.723341",
     "exception": false,
     "start_time": "2021-09-02T12:25:22.669289",
     "status": "completed"
    },
    "tags": []
   },
   "outputs": [],
   "source": [
    "# creating masks\n",
    "mask1 = df_grouped2['Class']==0\n",
    "mask2 = df_grouped2['Class']==1\n",
    "\n",
    "# applying masks\n",
    "df_sliced1 = df_grouped2.loc[mask1]\n",
    "df_sliced2 = df_grouped2.loc[mask2]"
   ]
  },
  {
   "cell_type": "code",
   "execution_count": 115,
   "id": "76ea6d2f",
   "metadata": {
    "execution": {
     "iopub.execute_input": "2021-09-02T12:25:22.811548Z",
     "iopub.status.busy": "2021-09-02T12:25:22.810653Z",
     "iopub.status.idle": "2021-09-02T12:25:23.058124Z",
     "shell.execute_reply": "2021-09-02T12:25:23.058578Z",
     "shell.execute_reply.started": "2021-09-02T11:50:19.602201Z"
    },
    "papermill": {
     "duration": 0.30131,
     "end_time": "2021-09-02T12:25:23.058760",
     "exception": false,
     "start_time": "2021-09-02T12:25:22.757450",
     "status": "completed"
    },
    "tags": []
   },
   "outputs": [
    {
     "data": {
      "image/png": "[encoded data removed]",
      "text/plain": [
       "<Figure size 720x216 with 2 Axes>"
      ]
     },
     "metadata": {
      "needs_background": "light"
     },
     "output_type": "display_data"
    }
   ],
   "source": [
    "# creating plot with 2 subplots\n",
    "fig, axes = plt.subplots(nrows=1, ncols=2, figsize=(10,3))\n",
    "\n",
    "# setting colormaps for each subplot\n",
    "color1 = plt.cm.spring(np.linspace(0, 1, len(df_sliced1['Time'].unique())))\n",
    "color2 = plt.cm.winter(np.linspace(0, 1, len(df_sliced1['Time'].unique())))\n",
    "\n",
    "# drawing plots\n",
    "df_sliced1.plot(x='Time', y='Count', kind = 'bar', color=color1, title='Class 0', ax=axes[0])\n",
    "df_sliced2.plot(x='Time', y='Count', kind = 'bar', color=color2, title='Class 1', ax=axes[1])\n",
    "\n",
    "plt.show()"
   ]
  },
  {
   "cell_type": "markdown",
   "id": "40dd055e",
   "metadata": {
    "papermill": {
     "duration": 0.034997,
     "end_time": "2021-09-02T12:25:23.130005",
     "exception": false,
     "start_time": "2021-09-02T12:25:23.095008",
     "status": "completed"
    },
    "tags": []
   },
   "source": [
    "Also, we can **draw boxplots** to see, how the data is distributed."
   ]
  },
  {
   "cell_type": "code",
   "execution_count": 116,
   "id": "13cd9021",
   "metadata": {
    "execution": {
     "iopub.execute_input": "2021-09-02T12:25:23.252490Z",
     "iopub.status.busy": "2021-09-02T12:25:23.251105Z",
     "iopub.status.idle": "2021-09-02T12:25:23.386018Z",
     "shell.execute_reply": "2021-09-02T12:25:23.386436Z",
     "shell.execute_reply.started": "2021-09-02T11:50:19.951162Z"
    },
    "papermill": {
     "duration": 0.221316,
     "end_time": "2021-09-02T12:25:23.386580",
     "exception": false,
     "start_time": "2021-09-02T12:25:23.165264",
     "status": "completed"
    },
    "tags": []
   },
   "outputs": [
    {
     "data": {
      "image/png": "[encoded data removed]",
      "text/plain": [
       "<Figure size 720x216 with 2 Axes>"
      ]
     },
     "metadata": {
      "needs_background": "light"
     },
     "output_type": "display_data"
    }
   ],
   "source": [
    "fig, axes = plt.subplots(nrows=1, ncols=2, figsize=(10,3))\n",
    "\n",
    "# titles for plots\n",
    "axes[0].title.set_text('Class 0')\n",
    "axes[1].title.set_text('Class 1')\n",
    "\n",
    "# colors for drawing boxplots (used for 'patch_artist' below)\n",
    "color1 = dict(boxes=\"pink\")\n",
    "color2 = dict(boxes=\"tan\")\n",
    "\n",
    "bplot1 = df_sliced1.boxplot(column=['Count'], grid=False, ax=axes[0], color=color1, patch_artist=True)\n",
    "bplot2 = df_sliced2.boxplot(column=['Count'], grid=False, ax=axes[1], color=color2, patch_artist=True)\n",
    "\n",
    "plt.show()"
   ]
  },
  {
   "cell_type": "markdown",
   "id": "b5fb3422",
   "metadata": {
    "papermill": {
     "duration": 0.035626,
     "end_time": "2021-09-02T12:25:23.457964",
     "exception": false,
     "start_time": "2021-09-02T12:25:23.422338",
     "status": "completed"
    },
    "tags": []
   },
   "source": [
    "# 4. Normalize data\n",
    "We will apply **min-max normalization** for our data."
   ]
  },
  {
   "cell_type": "code",
   "execution_count": 117,
   "id": "0f5e3012",
   "metadata": {
    "execution": {
     "iopub.execute_input": "2021-09-02T12:25:23.536579Z",
     "iopub.status.busy": "2021-09-02T12:25:23.535445Z",
     "iopub.status.idle": "2021-09-02T12:25:23.656436Z",
     "shell.execute_reply": "2021-09-02T12:25:23.656843Z",
     "shell.execute_reply.started": "2021-09-02T11:50:20.205624Z"
    },
    "papermill": {
     "duration": 0.163569,
     "end_time": "2021-09-02T12:25:23.657002",
     "exception": false,
     "start_time": "2021-09-02T12:25:23.493433",
     "status": "completed"
    },
    "tags": []
   },
   "outputs": [
    {
     "data": {
      "text/html": [
       "<div>\n",
       "<style scoped>\n",
       "    .dataframe tbody tr th:only-of-type {\n",
       "        vertical-align: middle;\n",
       "    }\n",
       "\n",
       "    .dataframe tbody tr th {\n",
       "        vertical-align: top;\n",
       "    }\n",
       "\n",
       "    .dataframe thead th {\n",
       "        text-align: right;\n",
       "    }\n",
       "</style>\n",
       "<table border=\"1\" class=\"dataframe\">\n",
       "  <thead>\n",
       "    <tr style=\"text-align: right;\">\n",
       "      <th></th>\n",
       "      <th>Time</th>\n",
       "      <th>V1</th>\n",
       "      <th>V2</th>\n",
       "      <th>V3</th>\n",
       "      <th>V4</th>\n",
       "      <th>V5</th>\n",
       "      <th>V6</th>\n",
       "      <th>V7</th>\n",
       "      <th>V8</th>\n",
       "      <th>V9</th>\n",
       "      <th>...</th>\n",
       "      <th>V21</th>\n",
       "      <th>V22</th>\n",
       "      <th>V23</th>\n",
       "      <th>V24</th>\n",
       "      <th>V25</th>\n",
       "      <th>V26</th>\n",
       "      <th>V27</th>\n",
       "      <th>V28</th>\n",
       "      <th>Amount</th>\n",
       "      <th>Class</th>\n",
       "    </tr>\n",
       "  </thead>\n",
       "  <tbody>\n",
       "    <tr>\n",
       "      <th>0</th>\n",
       "      <td>0.000000</td>\n",
       "      <td>0.935192</td>\n",
       "      <td>0.766490</td>\n",
       "      <td>0.881365</td>\n",
       "      <td>0.313023</td>\n",
       "      <td>0.763439</td>\n",
       "      <td>0.267669</td>\n",
       "      <td>0.266815</td>\n",
       "      <td>0.786444</td>\n",
       "      <td>0.475312</td>\n",
       "      <td>...</td>\n",
       "      <td>0.561184</td>\n",
       "      <td>0.522992</td>\n",
       "      <td>0.663793</td>\n",
       "      <td>0.391253</td>\n",
       "      <td>0.585122</td>\n",
       "      <td>0.394557</td>\n",
       "      <td>0.418976</td>\n",
       "      <td>0.312697</td>\n",
       "      <td>0.005824</td>\n",
       "      <td>0.0</td>\n",
       "    </tr>\n",
       "    <tr>\n",
       "      <th>1</th>\n",
       "      <td>0.000000</td>\n",
       "      <td>0.978542</td>\n",
       "      <td>0.770067</td>\n",
       "      <td>0.840298</td>\n",
       "      <td>0.271797</td>\n",
       "      <td>0.766120</td>\n",
       "      <td>0.262192</td>\n",
       "      <td>0.264875</td>\n",
       "      <td>0.786298</td>\n",
       "      <td>0.453981</td>\n",
       "      <td>...</td>\n",
       "      <td>0.557840</td>\n",
       "      <td>0.480237</td>\n",
       "      <td>0.666938</td>\n",
       "      <td>0.336440</td>\n",
       "      <td>0.587290</td>\n",
       "      <td>0.446013</td>\n",
       "      <td>0.416345</td>\n",
       "      <td>0.313423</td>\n",
       "      <td>0.000105</td>\n",
       "      <td>0.0</td>\n",
       "    </tr>\n",
       "    <tr>\n",
       "      <th>2</th>\n",
       "      <td>0.000006</td>\n",
       "      <td>0.935217</td>\n",
       "      <td>0.753118</td>\n",
       "      <td>0.868141</td>\n",
       "      <td>0.268766</td>\n",
       "      <td>0.762329</td>\n",
       "      <td>0.281122</td>\n",
       "      <td>0.270177</td>\n",
       "      <td>0.788042</td>\n",
       "      <td>0.410603</td>\n",
       "      <td>...</td>\n",
       "      <td>0.565477</td>\n",
       "      <td>0.546030</td>\n",
       "      <td>0.678939</td>\n",
       "      <td>0.289354</td>\n",
       "      <td>0.559515</td>\n",
       "      <td>0.402727</td>\n",
       "      <td>0.415489</td>\n",
       "      <td>0.311911</td>\n",
       "      <td>0.014739</td>\n",
       "      <td>0.0</td>\n",
       "    </tr>\n",
       "    <tr>\n",
       "      <th>3</th>\n",
       "      <td>0.000006</td>\n",
       "      <td>0.941878</td>\n",
       "      <td>0.765304</td>\n",
       "      <td>0.868484</td>\n",
       "      <td>0.213661</td>\n",
       "      <td>0.765647</td>\n",
       "      <td>0.275559</td>\n",
       "      <td>0.266803</td>\n",
       "      <td>0.789434</td>\n",
       "      <td>0.414999</td>\n",
       "      <td>...</td>\n",
       "      <td>0.559734</td>\n",
       "      <td>0.510277</td>\n",
       "      <td>0.662607</td>\n",
       "      <td>0.223826</td>\n",
       "      <td>0.614245</td>\n",
       "      <td>0.389197</td>\n",
       "      <td>0.417669</td>\n",
       "      <td>0.314371</td>\n",
       "      <td>0.004807</td>\n",
       "      <td>0.0</td>\n",
       "    </tr>\n",
       "    <tr>\n",
       "      <th>4</th>\n",
       "      <td>0.000012</td>\n",
       "      <td>0.938617</td>\n",
       "      <td>0.776520</td>\n",
       "      <td>0.864251</td>\n",
       "      <td>0.269796</td>\n",
       "      <td>0.762975</td>\n",
       "      <td>0.263984</td>\n",
       "      <td>0.268968</td>\n",
       "      <td>0.782484</td>\n",
       "      <td>0.490950</td>\n",
       "      <td>...</td>\n",
       "      <td>0.561327</td>\n",
       "      <td>0.547271</td>\n",
       "      <td>0.663392</td>\n",
       "      <td>0.401270</td>\n",
       "      <td>0.566343</td>\n",
       "      <td>0.507497</td>\n",
       "      <td>0.420561</td>\n",
       "      <td>0.317490</td>\n",
       "      <td>0.002724</td>\n",
       "      <td>0.0</td>\n",
       "    </tr>\n",
       "  </tbody>\n",
       "</table>\n",
       "<p>5 rows × 31 columns</p>\n",
       "</div>"
      ],
      "text/plain": [
       "       Time        V1        V2        V3        V4        V5        V6  \\\n",
       "0  0.000000  0.935192  0.766490  0.881365  0.313023  0.763439  0.267669   \n",
       "1  0.000000  0.978542  0.770067  0.840298  0.271797  0.766120  0.262192   \n",
       "2  0.000006  0.935217  0.753118  0.868141  0.268766  0.762329  0.281122   \n",
       "3  0.000006  0.941878  0.765304  0.868484  0.213661  0.765647  0.275559   \n",
       "4  0.000012  0.938617  0.776520  0.864251  0.269796  0.762975  0.263984   \n",
       "\n",
       "         V7        V8        V9  ...       V21       V22       V23       V24  \\\n",
       "0  0.266815  0.786444  0.475312  ...  0.561184  0.522992  0.663793  0.391253   \n",
       "1  0.264875  0.786298  0.453981  ...  0.557840  0.480237  0.666938  0.336440   \n",
       "2  0.270177  0.788042  0.410603  ...  0.565477  0.546030  0.678939  0.289354   \n",
       "3  0.266803  0.789434  0.414999  ...  0.559734  0.510277  0.662607  0.223826   \n",
       "4  0.268968  0.782484  0.490950  ...  0.561327  0.547271  0.663392  0.401270   \n",
       "\n",
       "        V25       V26       V27       V28    Amount  Class  \n",
       "0  0.585122  0.394557  0.418976  0.312697  0.005824    0.0  \n",
       "1  0.587290  0.446013  0.416345  0.313423  0.000105    0.0  \n",
       "2  0.559515  0.402727  0.415489  0.311911  0.014739    0.0  \n",
       "3  0.614245  0.389197  0.417669  0.314371  0.004807    0.0  \n",
       "4  0.566343  0.507497  0.420561  0.317490  0.002724    0.0  \n",
       "\n",
       "[5 rows x 31 columns]"
      ]
     },
     "execution_count": 117,
     "metadata": {},
     "output_type": "execute_result"
    }
   ],
   "source": [
    "scaler = MinMaxScaler(feature_range=(0, 1))\n",
    "normed = scaler.fit_transform(df)\n",
    "df_normed = pd.DataFrame(data=normed, columns=df.columns)\n",
    "df_normed.head()"
   ]
  },
  {
   "cell_type": "markdown",
   "id": "b16c8f73",
   "metadata": {
    "papermill": {
     "duration": 0.03613,
     "end_time": "2021-09-02T12:25:23.729834",
     "exception": false,
     "start_time": "2021-09-02T12:25:23.693704",
     "status": "completed"
    },
    "tags": []
   },
   "source": [
    "# 5. Split to train and val subsets\n",
    "Here we're going to split data to train and validation subsets as **70% to 30%** respectively *(parameter frac=70)*."
   ]
  },
  {
   "cell_type": "code",
   "execution_count": 118,
   "id": "85423621",
   "metadata": {
    "execution": {
     "iopub.execute_input": "2021-09-02T12:25:23.808068Z",
     "iopub.status.busy": "2021-09-02T12:25:23.807330Z",
     "iopub.status.idle": "2021-09-02T12:25:23.881273Z",
     "shell.execute_reply": "2021-09-02T12:25:23.880798Z",
     "shell.execute_reply.started": "2021-09-02T11:50:20.366638Z"
    },
    "papermill": {
     "duration": 0.115607,
     "end_time": "2021-09-02T12:25:23.881410",
     "exception": false,
     "start_time": "2021-09-02T12:25:23.765803",
     "status": "completed"
    },
    "tags": []
   },
   "outputs": [],
   "source": [
    "rng = RandomState()\n",
    "\n",
    "train = df_normed.sample(frac=0.7, random_state=rng)\n",
    "val = df_normed.loc[~df_normed.index.isin(train.index)]\n",
    "\n",
    "train.reset_index(drop=True, inplace=True)\n",
    "val.reset_index(drop=True, inplace=True)"
   ]
  },
  {
   "cell_type": "code",
   "execution_count": 119,
   "id": "b7b59740",
   "metadata": {
    "execution": {
     "iopub.execute_input": "2021-09-02T12:25:23.976974Z",
     "iopub.status.busy": "2021-09-02T12:25:23.966542Z",
     "iopub.status.idle": "2021-09-02T12:25:23.982151Z",
     "shell.execute_reply": "2021-09-02T12:25:23.982564Z",
     "shell.execute_reply.started": "2021-09-02T11:50:20.464056Z"
    },
    "papermill": {
     "duration": 0.064258,
     "end_time": "2021-09-02T12:25:23.982696",
     "exception": false,
     "start_time": "2021-09-02T12:25:23.918438",
     "status": "completed"
    },
    "tags": []
   },
   "outputs": [
    {
     "name": "stdout",
     "output_type": "stream",
     "text": [
      "♦ TRAIN SET:\n"
     ]
    },
    {
     "data": {
      "text/html": [
       "<div>\n",
       "<style scoped>\n",
       "    .dataframe tbody tr th:only-of-type {\n",
       "        vertical-align: middle;\n",
       "    }\n",
       "\n",
       "    .dataframe tbody tr th {\n",
       "        vertical-align: top;\n",
       "    }\n",
       "\n",
       "    .dataframe thead th {\n",
       "        text-align: right;\n",
       "    }\n",
       "</style>\n",
       "<table border=\"1\" class=\"dataframe\">\n",
       "  <thead>\n",
       "    <tr style=\"text-align: right;\">\n",
       "      <th></th>\n",
       "      <th>Time</th>\n",
       "      <th>V1</th>\n",
       "      <th>V2</th>\n",
       "      <th>V3</th>\n",
       "      <th>V4</th>\n",
       "      <th>V5</th>\n",
       "      <th>V6</th>\n",
       "      <th>V7</th>\n",
       "      <th>V8</th>\n",
       "      <th>V9</th>\n",
       "      <th>...</th>\n",
       "      <th>V21</th>\n",
       "      <th>V22</th>\n",
       "      <th>V23</th>\n",
       "      <th>V24</th>\n",
       "      <th>V25</th>\n",
       "      <th>V26</th>\n",
       "      <th>V27</th>\n",
       "      <th>V28</th>\n",
       "      <th>Amount</th>\n",
       "      <th>Class</th>\n",
       "    </tr>\n",
       "  </thead>\n",
       "  <tbody>\n",
       "    <tr>\n",
       "      <th>0</th>\n",
       "      <td>0.651975</td>\n",
       "      <td>0.993728</td>\n",
       "      <td>0.761011</td>\n",
       "      <td>0.789840</td>\n",
       "      <td>0.179854</td>\n",
       "      <td>0.780974</td>\n",
       "      <td>0.294268</td>\n",
       "      <td>0.262347</td>\n",
       "      <td>0.793292</td>\n",
       "      <td>0.490593</td>\n",
       "      <td>...</td>\n",
       "      <td>0.557207</td>\n",
       "      <td>0.477710</td>\n",
       "      <td>0.670344</td>\n",
       "      <td>0.482600</td>\n",
       "      <td>0.565364</td>\n",
       "      <td>0.533368</td>\n",
       "      <td>0.415011</td>\n",
       "      <td>0.311555</td>\n",
       "      <td>0.000156</td>\n",
       "      <td>0.0</td>\n",
       "    </tr>\n",
       "    <tr>\n",
       "      <th>1</th>\n",
       "      <td>0.284249</td>\n",
       "      <td>0.951668</td>\n",
       "      <td>0.775107</td>\n",
       "      <td>0.863531</td>\n",
       "      <td>0.280745</td>\n",
       "      <td>0.772157</td>\n",
       "      <td>0.261281</td>\n",
       "      <td>0.272608</td>\n",
       "      <td>0.778573</td>\n",
       "      <td>0.448038</td>\n",
       "      <td>...</td>\n",
       "      <td>0.560113</td>\n",
       "      <td>0.521894</td>\n",
       "      <td>0.664265</td>\n",
       "      <td>0.324188</td>\n",
       "      <td>0.573360</td>\n",
       "      <td>0.355543</td>\n",
       "      <td>0.411938</td>\n",
       "      <td>0.306326</td>\n",
       "      <td>0.000778</td>\n",
       "      <td>0.0</td>\n",
       "    </tr>\n",
       "    <tr>\n",
       "      <th>2</th>\n",
       "      <td>0.026031</td>\n",
       "      <td>0.908651</td>\n",
       "      <td>0.764450</td>\n",
       "      <td>0.856619</td>\n",
       "      <td>0.402877</td>\n",
       "      <td>0.773111</td>\n",
       "      <td>0.262286</td>\n",
       "      <td>0.270075</td>\n",
       "      <td>0.784457</td>\n",
       "      <td>0.441533</td>\n",
       "      <td>...</td>\n",
       "      <td>0.554606</td>\n",
       "      <td>0.532978</td>\n",
       "      <td>0.684751</td>\n",
       "      <td>0.410703</td>\n",
       "      <td>0.617739</td>\n",
       "      <td>0.484953</td>\n",
       "      <td>0.415929</td>\n",
       "      <td>0.302171</td>\n",
       "      <td>0.003774</td>\n",
       "      <td>0.0</td>\n",
       "    </tr>\n",
       "  </tbody>\n",
       "</table>\n",
       "<p>3 rows × 31 columns</p>\n",
       "</div>"
      ],
      "text/plain": [
       "       Time        V1        V2        V3        V4        V5        V6  \\\n",
       "0  0.651975  0.993728  0.761011  0.789840  0.179854  0.780974  0.294268   \n",
       "1  0.284249  0.951668  0.775107  0.863531  0.280745  0.772157  0.261281   \n",
       "2  0.026031  0.908651  0.764450  0.856619  0.402877  0.773111  0.262286   \n",
       "\n",
       "         V7        V8        V9  ...       V21       V22       V23       V24  \\\n",
       "0  0.262347  0.793292  0.490593  ...  0.557207  0.477710  0.670344  0.482600   \n",
       "1  0.272608  0.778573  0.448038  ...  0.560113  0.521894  0.664265  0.324188   \n",
       "2  0.270075  0.784457  0.441533  ...  0.554606  0.532978  0.684751  0.410703   \n",
       "\n",
       "        V25       V26       V27       V28    Amount  Class  \n",
       "0  0.565364  0.533368  0.415011  0.311555  0.000156    0.0  \n",
       "1  0.573360  0.355543  0.411938  0.306326  0.000778    0.0  \n",
       "2  0.617739  0.484953  0.415929  0.302171  0.003774    0.0  \n",
       "\n",
       "[3 rows x 31 columns]"
      ]
     },
     "execution_count": 119,
     "metadata": {},
     "output_type": "execute_result"
    }
   ],
   "source": [
    "print(\"♦ TRAIN SET:\")\n",
    "train.head(3)"
   ]
  },
  {
   "cell_type": "code",
   "execution_count": 120,
   "id": "335e0947",
   "metadata": {
    "execution": {
     "iopub.execute_input": "2021-09-02T12:25:24.170826Z",
     "iopub.status.busy": "2021-09-02T12:25:24.160143Z",
     "iopub.status.idle": "2021-09-02T12:25:24.174725Z",
     "shell.execute_reply": "2021-09-02T12:25:24.175199Z",
     "shell.execute_reply.started": "2021-09-02T11:50:20.501414Z"
    },
    "papermill": {
     "duration": 0.155704,
     "end_time": "2021-09-02T12:25:24.175352",
     "exception": false,
     "start_time": "2021-09-02T12:25:24.019648",
     "status": "completed"
    },
    "tags": []
   },
   "outputs": [
    {
     "name": "stdout",
     "output_type": "stream",
     "text": [
      "♦ VALIDATION SET:\n"
     ]
    },
    {
     "data": {
      "text/html": [
       "<div>\n",
       "<style scoped>\n",
       "    .dataframe tbody tr th:only-of-type {\n",
       "        vertical-align: middle;\n",
       "    }\n",
       "\n",
       "    .dataframe tbody tr th {\n",
       "        vertical-align: top;\n",
       "    }\n",
       "\n",
       "    .dataframe thead th {\n",
       "        text-align: right;\n",
       "    }\n",
       "</style>\n",
       "<table border=\"1\" class=\"dataframe\">\n",
       "  <thead>\n",
       "    <tr style=\"text-align: right;\">\n",
       "      <th></th>\n",
       "      <th>Time</th>\n",
       "      <th>V1</th>\n",
       "      <th>V2</th>\n",
       "      <th>V3</th>\n",
       "      <th>V4</th>\n",
       "      <th>V5</th>\n",
       "      <th>V6</th>\n",
       "      <th>V7</th>\n",
       "      <th>V8</th>\n",
       "      <th>V9</th>\n",
       "      <th>...</th>\n",
       "      <th>V21</th>\n",
       "      <th>V22</th>\n",
       "      <th>V23</th>\n",
       "      <th>V24</th>\n",
       "      <th>V25</th>\n",
       "      <th>V26</th>\n",
       "      <th>V27</th>\n",
       "      <th>V28</th>\n",
       "      <th>Amount</th>\n",
       "      <th>Class</th>\n",
       "    </tr>\n",
       "  </thead>\n",
       "  <tbody>\n",
       "    <tr>\n",
       "      <th>0</th>\n",
       "      <td>0.000000</td>\n",
       "      <td>0.935192</td>\n",
       "      <td>0.766490</td>\n",
       "      <td>0.881365</td>\n",
       "      <td>0.313023</td>\n",
       "      <td>0.763439</td>\n",
       "      <td>0.267669</td>\n",
       "      <td>0.266815</td>\n",
       "      <td>0.786444</td>\n",
       "      <td>0.475312</td>\n",
       "      <td>...</td>\n",
       "      <td>0.561184</td>\n",
       "      <td>0.522992</td>\n",
       "      <td>0.663793</td>\n",
       "      <td>0.391253</td>\n",
       "      <td>0.585122</td>\n",
       "      <td>0.394557</td>\n",
       "      <td>0.418976</td>\n",
       "      <td>0.312697</td>\n",
       "      <td>0.005824</td>\n",
       "      <td>0.0</td>\n",
       "    </tr>\n",
       "    <tr>\n",
       "      <th>1</th>\n",
       "      <td>0.000006</td>\n",
       "      <td>0.935217</td>\n",
       "      <td>0.753118</td>\n",
       "      <td>0.868141</td>\n",
       "      <td>0.268766</td>\n",
       "      <td>0.762329</td>\n",
       "      <td>0.281122</td>\n",
       "      <td>0.270177</td>\n",
       "      <td>0.788042</td>\n",
       "      <td>0.410603</td>\n",
       "      <td>...</td>\n",
       "      <td>0.565477</td>\n",
       "      <td>0.546030</td>\n",
       "      <td>0.678939</td>\n",
       "      <td>0.289354</td>\n",
       "      <td>0.559515</td>\n",
       "      <td>0.402727</td>\n",
       "      <td>0.415489</td>\n",
       "      <td>0.311911</td>\n",
       "      <td>0.014739</td>\n",
       "      <td>0.0</td>\n",
       "    </tr>\n",
       "    <tr>\n",
       "      <th>2</th>\n",
       "      <td>0.000041</td>\n",
       "      <td>0.947348</td>\n",
       "      <td>0.782220</td>\n",
       "      <td>0.856031</td>\n",
       "      <td>0.230111</td>\n",
       "      <td>0.772104</td>\n",
       "      <td>0.267324</td>\n",
       "      <td>0.272183</td>\n",
       "      <td>0.744539</td>\n",
       "      <td>0.483978</td>\n",
       "      <td>...</td>\n",
       "      <td>0.592809</td>\n",
       "      <td>0.462660</td>\n",
       "      <td>0.666288</td>\n",
       "      <td>0.294686</td>\n",
       "      <td>0.554597</td>\n",
       "      <td>0.417014</td>\n",
       "      <td>0.394234</td>\n",
       "      <td>0.291099</td>\n",
       "      <td>0.001588</td>\n",
       "      <td>0.0</td>\n",
       "    </tr>\n",
       "  </tbody>\n",
       "</table>\n",
       "<p>3 rows × 31 columns</p>\n",
       "</div>"
      ],
      "text/plain": [
       "       Time        V1        V2        V3        V4        V5        V6  \\\n",
       "0  0.000000  0.935192  0.766490  0.881365  0.313023  0.763439  0.267669   \n",
       "1  0.000006  0.935217  0.753118  0.868141  0.268766  0.762329  0.281122   \n",
       "2  0.000041  0.947348  0.782220  0.856031  0.230111  0.772104  0.267324   \n",
       "\n",
       "         V7        V8        V9  ...       V21       V22       V23       V24  \\\n",
       "0  0.266815  0.786444  0.475312  ...  0.561184  0.522992  0.663793  0.391253   \n",
       "1  0.270177  0.788042  0.410603  ...  0.565477  0.546030  0.678939  0.289354   \n",
       "2  0.272183  0.744539  0.483978  ...  0.592809  0.462660  0.666288  0.294686   \n",
       "\n",
       "        V25       V26       V27       V28    Amount  Class  \n",
       "0  0.585122  0.394557  0.418976  0.312697  0.005824    0.0  \n",
       "1  0.559515  0.402727  0.415489  0.311911  0.014739    0.0  \n",
       "2  0.554597  0.417014  0.394234  0.291099  0.001588    0.0  \n",
       "\n",
       "[3 rows x 31 columns]"
      ]
     },
     "execution_count": 120,
     "metadata": {},
     "output_type": "execute_result"
    }
   ],
   "source": [
    "print(\"♦ VALIDATION SET:\")\n",
    "val.head(3)"
   ]
  },
  {
   "cell_type": "markdown",
   "id": "d56a67cd",
   "metadata": {
    "papermill": {
     "duration": 0.037994,
     "end_time": "2021-09-02T12:25:24.251822",
     "exception": false,
     "start_time": "2021-09-02T12:25:24.213828",
     "status": "completed"
    },
    "tags": []
   },
   "source": [
    "# 6. Split dataset to input and output variables (x and y)\n",
    "Here we can see, that we should predicit *'Class'* variable, so it will be our 'y' and another columns will represent 'x'."
   ]
  },
  {
   "cell_type": "code",
   "execution_count": 121,
   "id": "bf1ca3be",
   "metadata": {
    "execution": {
     "iopub.execute_input": "2021-09-02T12:25:24.332114Z",
     "iopub.status.busy": "2021-09-02T12:25:24.331327Z",
     "iopub.status.idle": "2021-09-02T12:25:24.334091Z",
     "shell.execute_reply": "2021-09-02T12:25:24.333642Z",
     "shell.execute_reply.started": "2021-09-02T11:50:20.539412Z"
    },
    "papermill": {
     "duration": 0.044403,
     "end_time": "2021-09-02T12:25:24.334200",
     "exception": false,
     "start_time": "2021-09-02T12:25:24.289797",
     "status": "completed"
    },
    "tags": []
   },
   "outputs": [],
   "source": [
    "# form 'x' and 'y' data\n",
    "x_columns = df.columns[1:-1]\n",
    "y_column = df.columns[-1]"
   ]
  },
  {
   "cell_type": "code",
   "execution_count": 129,
   "id": "488f4b30",
   "metadata": {
    "execution": {
     "iopub.execute_input": "2021-09-02T12:25:24.430981Z",
     "iopub.status.busy": "2021-09-02T12:25:24.430397Z",
     "iopub.status.idle": "2021-09-02T12:25:24.452891Z",
     "shell.execute_reply": "2021-09-02T12:25:24.452303Z",
     "shell.execute_reply.started": "2021-09-02T11:50:20.547195Z"
    },
    "papermill": {
     "duration": 0.081319,
     "end_time": "2021-09-02T12:25:24.453028",
     "exception": false,
     "start_time": "2021-09-02T12:25:24.371709",
     "status": "completed"
    },
    "tags": []
   },
   "outputs": [],
   "source": [
    "# create 'x' and 'y' data for train\n",
    "x_raw_train = train[x_columns]\n",
    "y_raw_train = train[y_column]\n",
    "\n",
    "X_train = x_raw_train.copy()\n",
    "Y_train = y_raw_train.copy()"
   ]
  },
  {
   "cell_type": "code",
   "execution_count": 131,
   "id": "81acc458",
   "metadata": {},
   "outputs": [
    {
     "data": {
      "text/html": [
       "<div>\n",
       "<style scoped>\n",
       "    .dataframe tbody tr th:only-of-type {\n",
       "        vertical-align: middle;\n",
       "    }\n",
       "\n",
       "    .dataframe tbody tr th {\n",
       "        vertical-align: top;\n",
       "    }\n",
       "\n",
       "    .dataframe thead th {\n",
       "        text-align: right;\n",
       "    }\n",
       "</style>\n",
       "<table border=\"1\" class=\"dataframe\">\n",
       "  <thead>\n",
       "    <tr style=\"text-align: right;\">\n",
       "      <th></th>\n",
       "      <th>V1</th>\n",
       "      <th>V2</th>\n",
       "      <th>V3</th>\n",
       "      <th>V4</th>\n",
       "      <th>V5</th>\n",
       "      <th>V6</th>\n",
       "      <th>V7</th>\n",
       "      <th>V8</th>\n",
       "      <th>V9</th>\n",
       "      <th>V10</th>\n",
       "      <th>...</th>\n",
       "      <th>V20</th>\n",
       "      <th>V21</th>\n",
       "      <th>V22</th>\n",
       "      <th>V23</th>\n",
       "      <th>V24</th>\n",
       "      <th>V25</th>\n",
       "      <th>V26</th>\n",
       "      <th>V27</th>\n",
       "      <th>V28</th>\n",
       "      <th>Amount</th>\n",
       "    </tr>\n",
       "  </thead>\n",
       "  <tbody>\n",
       "    <tr>\n",
       "      <th>0</th>\n",
       "      <td>0.993728</td>\n",
       "      <td>0.761011</td>\n",
       "      <td>0.789840</td>\n",
       "      <td>0.179854</td>\n",
       "      <td>0.780974</td>\n",
       "      <td>0.294268</td>\n",
       "      <td>0.262347</td>\n",
       "      <td>0.793292</td>\n",
       "      <td>0.490593</td>\n",
       "      <td>0.503536</td>\n",
       "      <td>...</td>\n",
       "      <td>0.578928</td>\n",
       "      <td>0.557207</td>\n",
       "      <td>0.477710</td>\n",
       "      <td>0.670344</td>\n",
       "      <td>0.482600</td>\n",
       "      <td>0.565364</td>\n",
       "      <td>0.533368</td>\n",
       "      <td>0.415011</td>\n",
       "      <td>0.311555</td>\n",
       "      <td>0.000156</td>\n",
       "    </tr>\n",
       "    <tr>\n",
       "      <th>1</th>\n",
       "      <td>0.951668</td>\n",
       "      <td>0.775107</td>\n",
       "      <td>0.863531</td>\n",
       "      <td>0.280745</td>\n",
       "      <td>0.772157</td>\n",
       "      <td>0.261281</td>\n",
       "      <td>0.272608</td>\n",
       "      <td>0.778573</td>\n",
       "      <td>0.448038</td>\n",
       "      <td>0.513372</td>\n",
       "      <td>...</td>\n",
       "      <td>0.582570</td>\n",
       "      <td>0.560113</td>\n",
       "      <td>0.521894</td>\n",
       "      <td>0.664265</td>\n",
       "      <td>0.324188</td>\n",
       "      <td>0.573360</td>\n",
       "      <td>0.355543</td>\n",
       "      <td>0.411938</td>\n",
       "      <td>0.306326</td>\n",
       "      <td>0.000778</td>\n",
       "    </tr>\n",
       "    <tr>\n",
       "      <th>2</th>\n",
       "      <td>0.908651</td>\n",
       "      <td>0.764450</td>\n",
       "      <td>0.856619</td>\n",
       "      <td>0.402877</td>\n",
       "      <td>0.773111</td>\n",
       "      <td>0.262286</td>\n",
       "      <td>0.270075</td>\n",
       "      <td>0.784457</td>\n",
       "      <td>0.441533</td>\n",
       "      <td>0.525370</td>\n",
       "      <td>...</td>\n",
       "      <td>0.567561</td>\n",
       "      <td>0.554606</td>\n",
       "      <td>0.532978</td>\n",
       "      <td>0.684751</td>\n",
       "      <td>0.410703</td>\n",
       "      <td>0.617739</td>\n",
       "      <td>0.484953</td>\n",
       "      <td>0.415929</td>\n",
       "      <td>0.302171</td>\n",
       "      <td>0.003774</td>\n",
       "    </tr>\n",
       "    <tr>\n",
       "      <th>3</th>\n",
       "      <td>0.992922</td>\n",
       "      <td>0.766050</td>\n",
       "      <td>0.816429</td>\n",
       "      <td>0.260733</td>\n",
       "      <td>0.766712</td>\n",
       "      <td>0.257252</td>\n",
       "      <td>0.265751</td>\n",
       "      <td>0.783866</td>\n",
       "      <td>0.472910</td>\n",
       "      <td>0.513512</td>\n",
       "      <td>...</td>\n",
       "      <td>0.578130</td>\n",
       "      <td>0.557340</td>\n",
       "      <td>0.480677</td>\n",
       "      <td>0.669650</td>\n",
       "      <td>0.319761</td>\n",
       "      <td>0.561777</td>\n",
       "      <td>0.459428</td>\n",
       "      <td>0.415194</td>\n",
       "      <td>0.311612</td>\n",
       "      <td>0.000077</td>\n",
       "    </tr>\n",
       "    <tr>\n",
       "      <th>4</th>\n",
       "      <td>0.979352</td>\n",
       "      <td>0.769762</td>\n",
       "      <td>0.842107</td>\n",
       "      <td>0.283511</td>\n",
       "      <td>0.762403</td>\n",
       "      <td>0.251957</td>\n",
       "      <td>0.265431</td>\n",
       "      <td>0.783942</td>\n",
       "      <td>0.470420</td>\n",
       "      <td>0.503558</td>\n",
       "      <td>...</td>\n",
       "      <td>0.578726</td>\n",
       "      <td>0.556691</td>\n",
       "      <td>0.466314</td>\n",
       "      <td>0.667472</td>\n",
       "      <td>0.424193</td>\n",
       "      <td>0.587479</td>\n",
       "      <td>0.441414</td>\n",
       "      <td>0.415905</td>\n",
       "      <td>0.313724</td>\n",
       "      <td>0.000389</td>\n",
       "    </tr>\n",
       "    <tr>\n",
       "      <th>...</th>\n",
       "      <td>...</td>\n",
       "      <td>...</td>\n",
       "      <td>...</td>\n",
       "      <td>...</td>\n",
       "      <td>...</td>\n",
       "      <td>...</td>\n",
       "      <td>...</td>\n",
       "      <td>...</td>\n",
       "      <td>...</td>\n",
       "      <td>...</td>\n",
       "      <td>...</td>\n",
       "      <td>...</td>\n",
       "      <td>...</td>\n",
       "      <td>...</td>\n",
       "      <td>...</td>\n",
       "      <td>...</td>\n",
       "      <td>...</td>\n",
       "      <td>...</td>\n",
       "      <td>...</td>\n",
       "      <td>...</td>\n",
       "      <td>...</td>\n",
       "    </tr>\n",
       "    <tr>\n",
       "      <th>199360</th>\n",
       "      <td>0.954453</td>\n",
       "      <td>0.783282</td>\n",
       "      <td>0.820338</td>\n",
       "      <td>0.288225</td>\n",
       "      <td>0.775827</td>\n",
       "      <td>0.266127</td>\n",
       "      <td>0.281606</td>\n",
       "      <td>0.775728</td>\n",
       "      <td>0.444224</td>\n",
       "      <td>0.505868</td>\n",
       "      <td>...</td>\n",
       "      <td>0.583229</td>\n",
       "      <td>0.559555</td>\n",
       "      <td>0.530873</td>\n",
       "      <td>0.659024</td>\n",
       "      <td>0.378038</td>\n",
       "      <td>0.585183</td>\n",
       "      <td>0.352379</td>\n",
       "      <td>0.415959</td>\n",
       "      <td>0.308794</td>\n",
       "      <td>0.006886</td>\n",
       "    </tr>\n",
       "    <tr>\n",
       "      <th>199361</th>\n",
       "      <td>0.808609</td>\n",
       "      <td>0.741989</td>\n",
       "      <td>0.772418</td>\n",
       "      <td>0.251284</td>\n",
       "      <td>0.752441</td>\n",
       "      <td>0.240966</td>\n",
       "      <td>0.256893</td>\n",
       "      <td>0.775707</td>\n",
       "      <td>0.485372</td>\n",
       "      <td>0.468651</td>\n",
       "      <td>...</td>\n",
       "      <td>0.556912</td>\n",
       "      <td>0.529300</td>\n",
       "      <td>0.562554</td>\n",
       "      <td>0.684583</td>\n",
       "      <td>0.537634</td>\n",
       "      <td>0.606947</td>\n",
       "      <td>0.311729</td>\n",
       "      <td>0.457101</td>\n",
       "      <td>0.257099</td>\n",
       "      <td>0.000584</td>\n",
       "    </tr>\n",
       "    <tr>\n",
       "      <th>199362</th>\n",
       "      <td>0.977906</td>\n",
       "      <td>0.770019</td>\n",
       "      <td>0.844752</td>\n",
       "      <td>0.313555</td>\n",
       "      <td>0.765245</td>\n",
       "      <td>0.261381</td>\n",
       "      <td>0.266230</td>\n",
       "      <td>0.784587</td>\n",
       "      <td>0.467641</td>\n",
       "      <td>0.505492</td>\n",
       "      <td>...</td>\n",
       "      <td>0.579027</td>\n",
       "      <td>0.560078</td>\n",
       "      <td>0.511087</td>\n",
       "      <td>0.664257</td>\n",
       "      <td>0.396979</td>\n",
       "      <td>0.616864</td>\n",
       "      <td>0.373807</td>\n",
       "      <td>0.417348</td>\n",
       "      <td>0.313510</td>\n",
       "      <td>0.000545</td>\n",
       "    </tr>\n",
       "    <tr>\n",
       "      <th>199363</th>\n",
       "      <td>0.976761</td>\n",
       "      <td>0.765749</td>\n",
       "      <td>0.840997</td>\n",
       "      <td>0.310167</td>\n",
       "      <td>0.763161</td>\n",
       "      <td>0.261278</td>\n",
       "      <td>0.264993</td>\n",
       "      <td>0.786872</td>\n",
       "      <td>0.477156</td>\n",
       "      <td>0.511529</td>\n",
       "      <td>...</td>\n",
       "      <td>0.578283</td>\n",
       "      <td>0.559929</td>\n",
       "      <td>0.493948</td>\n",
       "      <td>0.663033</td>\n",
       "      <td>0.376170</td>\n",
       "      <td>0.614383</td>\n",
       "      <td>0.370451</td>\n",
       "      <td>0.416393</td>\n",
       "      <td>0.313321</td>\n",
       "      <td>0.002335</td>\n",
       "    </tr>\n",
       "    <tr>\n",
       "      <th>199364</th>\n",
       "      <td>0.990788</td>\n",
       "      <td>0.763364</td>\n",
       "      <td>0.807935</td>\n",
       "      <td>0.282065</td>\n",
       "      <td>0.770758</td>\n",
       "      <td>0.279425</td>\n",
       "      <td>0.258880</td>\n",
       "      <td>0.791045</td>\n",
       "      <td>0.493317</td>\n",
       "      <td>0.504732</td>\n",
       "      <td>...</td>\n",
       "      <td>0.572664</td>\n",
       "      <td>0.553298</td>\n",
       "      <td>0.480920</td>\n",
       "      <td>0.669290</td>\n",
       "      <td>0.207194</td>\n",
       "      <td>0.556959</td>\n",
       "      <td>0.323212</td>\n",
       "      <td>0.418276</td>\n",
       "      <td>0.312955</td>\n",
       "      <td>0.001129</td>\n",
       "    </tr>\n",
       "  </tbody>\n",
       "</table>\n",
       "<p>199365 rows × 29 columns</p>\n",
       "</div>"
      ],
      "text/plain": [
       "              V1        V2        V3        V4        V5        V6        V7  \\\n",
       "0       0.993728  0.761011  0.789840  0.179854  0.780974  0.294268  0.262347   \n",
       "1       0.951668  0.775107  0.863531  0.280745  0.772157  0.261281  0.272608   \n",
       "2       0.908651  0.764450  0.856619  0.402877  0.773111  0.262286  0.270075   \n",
       "3       0.992922  0.766050  0.816429  0.260733  0.766712  0.257252  0.265751   \n",
       "4       0.979352  0.769762  0.842107  0.283511  0.762403  0.251957  0.265431   \n",
       "...          ...       ...       ...       ...       ...       ...       ...   \n",
       "199360  0.954453  0.783282  0.820338  0.288225  0.775827  0.266127  0.281606   \n",
       "199361  0.808609  0.741989  0.772418  0.251284  0.752441  0.240966  0.256893   \n",
       "199362  0.977906  0.770019  0.844752  0.313555  0.765245  0.261381  0.266230   \n",
       "199363  0.976761  0.765749  0.840997  0.310167  0.763161  0.261278  0.264993   \n",
       "199364  0.990788  0.763364  0.807935  0.282065  0.770758  0.279425  0.258880   \n",
       "\n",
       "              V8        V9       V10  ...       V20       V21       V22  \\\n",
       "0       0.793292  0.490593  0.503536  ...  0.578928  0.557207  0.477710   \n",
       "1       0.778573  0.448038  0.513372  ...  0.582570  0.560113  0.521894   \n",
       "2       0.784457  0.441533  0.525370  ...  0.567561  0.554606  0.532978   \n",
       "3       0.783866  0.472910  0.513512  ...  0.578130  0.557340  0.480677   \n",
       "4       0.783942  0.470420  0.503558  ...  0.578726  0.556691  0.466314   \n",
       "...          ...       ...       ...  ...       ...       ...       ...   \n",
       "199360  0.775728  0.444224  0.505868  ...  0.583229  0.559555  0.530873   \n",
       "199361  0.775707  0.485372  0.468651  ...  0.556912  0.529300  0.562554   \n",
       "199362  0.784587  0.467641  0.505492  ...  0.579027  0.560078  0.511087   \n",
       "199363  0.786872  0.477156  0.511529  ...  0.578283  0.559929  0.493948   \n",
       "199364  0.791045  0.493317  0.504732  ...  0.572664  0.553298  0.480920   \n",
       "\n",
       "             V23       V24       V25       V26       V27       V28    Amount  \n",
       "0       0.670344  0.482600  0.565364  0.533368  0.415011  0.311555  0.000156  \n",
       "1       0.664265  0.324188  0.573360  0.355543  0.411938  0.306326  0.000778  \n",
       "2       0.684751  0.410703  0.617739  0.484953  0.415929  0.302171  0.003774  \n",
       "3       0.669650  0.319761  0.561777  0.459428  0.415194  0.311612  0.000077  \n",
       "4       0.667472  0.424193  0.587479  0.441414  0.415905  0.313724  0.000389  \n",
       "...          ...       ...       ...       ...       ...       ...       ...  \n",
       "199360  0.659024  0.378038  0.585183  0.352379  0.415959  0.308794  0.006886  \n",
       "199361  0.684583  0.537634  0.606947  0.311729  0.457101  0.257099  0.000584  \n",
       "199362  0.664257  0.396979  0.616864  0.373807  0.417348  0.313510  0.000545  \n",
       "199363  0.663033  0.376170  0.614383  0.370451  0.416393  0.313321  0.002335  \n",
       "199364  0.669290  0.207194  0.556959  0.323212  0.418276  0.312955  0.001129  \n",
       "\n",
       "[199365 rows x 29 columns]"
      ]
     },
     "execution_count": 131,
     "metadata": {},
     "output_type": "execute_result"
    }
   ],
   "source": [
    "X_train"
   ]
  },
  {
   "cell_type": "code",
   "execution_count": 132,
   "id": "6c575b03",
   "metadata": {
    "execution": {
     "iopub.execute_input": "2021-09-02T12:25:24.543278Z",
     "iopub.status.busy": "2021-09-02T12:25:24.542030Z",
     "iopub.status.idle": "2021-09-02T12:25:24.550775Z",
     "shell.execute_reply": "2021-09-02T12:25:24.551255Z",
     "shell.execute_reply.started": "2021-09-02T11:50:20.600010Z"
    },
    "papermill": {
     "duration": 0.060085,
     "end_time": "2021-09-02T12:25:24.551409",
     "exception": false,
     "start_time": "2021-09-02T12:25:24.491324",
     "status": "completed"
    },
    "tags": []
   },
   "outputs": [],
   "source": [
    "# create 'x' and 'y' data for validation\n",
    "x_raw_val = val[x_columns]\n",
    "y_raw_val = val[y_column]\n",
    "\n",
    "X_val = x_raw_val.copy()\n",
    "Y_val = y_raw_val.copy()"
   ]
  },
  {
   "cell_type": "markdown",
   "id": "ea5371f9",
   "metadata": {
    "papermill": {
     "duration": 0.037305,
     "end_time": "2021-09-02T12:25:24.626814",
     "exception": false,
     "start_time": "2021-09-02T12:25:24.589509",
     "status": "completed"
    },
    "tags": []
   },
   "source": [
    "# 7. Classification itself\n",
    "Here we are going learn our classificators. "
   ]
  },
  {
   "cell_type": "code",
   "execution_count": 133,
   "id": "347e30cd",
   "metadata": {
    "execution": {
     "iopub.execute_input": "2021-09-02T12:25:24.707933Z",
     "iopub.status.busy": "2021-09-02T12:25:24.706651Z",
     "iopub.status.idle": "2021-09-02T12:25:24.709157Z",
     "shell.execute_reply": "2021-09-02T12:25:24.709536Z",
     "shell.execute_reply.started": "2021-09-02T11:50:20.626790Z"
    },
    "papermill": {
     "duration": 0.045267,
     "end_time": "2021-09-02T12:25:24.709665",
     "exception": false,
     "start_time": "2021-09-02T12:25:24.664398",
     "status": "completed"
    },
    "tags": []
   },
   "outputs": [],
   "source": [
    "# list of all classifiers whick will be used for our data\n",
    "all_classifers = [\n",
    "    KNeighborsClassifier(2),\n",
    "    SVC(),\n",
    "    DecisionTreeClassifier(),\n",
    "    RandomForestClassifier(),\n",
    "    AdaBoostClassifier(),\n",
    "    GradientBoostingClassifier(),\n",
    "    GaussianNB(),\n",
    "    LinearDiscriminantAnalysis(),\n",
    "    QuadraticDiscriminantAnalysis(),\n",
    "    LogisticRegression()\n",
    "]"
   ]
  },
  {
   "cell_type": "code",
   "execution_count": 134,
   "id": "04bf0330",
   "metadata": {
    "execution": {
     "iopub.execute_input": "2021-09-02T12:25:24.788391Z",
     "iopub.status.busy": "2021-09-02T12:25:24.787847Z",
     "iopub.status.idle": "2021-09-02T12:25:24.791251Z",
     "shell.execute_reply": "2021-09-02T12:25:24.791625Z",
     "shell.execute_reply.started": "2021-09-02T11:50:20.637661Z"
    },
    "papermill": {
     "duration": 0.044649,
     "end_time": "2021-09-02T12:25:24.791748",
     "exception": false,
     "start_time": "2021-09-02T12:25:24.747099",
     "status": "completed"
    },
    "tags": []
   },
   "outputs": [],
   "source": [
    "# there we will store accuracies to build plots and for choosing the best classifier\n",
    "all_acc = {}"
   ]
  },
  {
   "cell_type": "code",
   "execution_count": 24,
   "id": "72b6fe8b",
   "metadata": {},
   "outputs": [],
   "source": [
    "classfier_name = KNeighborsClassifier(2)\n",
    "\n",
    "# train model\n",
    "model = classifier\n",
    "model.fit(X_train, Y_train)\n",
    "filename = '/Users/ashwinv/Documents/SEM5/dbms/project/'+classfier_name+'_model.pickle'\n",
    "pickle.dump(model, open(filename, 'wb'))  "
   ]
  },
  {
   "cell_type": "code",
   "execution_count": 135,
   "id": "007b1cc9",
   "metadata": {
    "execution": {
     "iopub.execute_input": "2021-09-02T12:25:24.879772Z",
     "iopub.status.busy": "2021-09-02T12:25:24.878797Z",
     "iopub.status.idle": "2021-09-02T12:40:38.308465Z",
     "shell.execute_reply": "2021-09-02T12:40:38.308007Z",
     "shell.execute_reply.started": "2021-09-02T11:50:20.650867Z"
    },
    "papermill": {
     "duration": 913.478572,
     "end_time": "2021-09-02T12:40:38.308606",
     "exception": false,
     "start_time": "2021-09-02T12:25:24.830034",
     "status": "completed"
    },
    "tags": []
   },
   "outputs": [],
   "source": [
    "# learn all classifiers, write accuracy and save trained models in pickle-format\n",
    "\n",
    "for classifier in all_classifers:\n",
    "    \n",
    "    # get the classifier name \n",
    "    classfier_name = classifier.__class__.__name__ \n",
    "    \n",
    "    # train model\n",
    "    model = classifier\n",
    "    model.fit(X_train, Y_train)\n",
    "    \n",
    "    # validate model\n",
    "#     model_pred = model.predict(X_val)\n",
    "#     model_acc = accuracy_score(Y_val, model_pred)\n",
    "    \n",
    "    # calculate confusion matrix for train and val subsets\n",
    "#     fig, axes = plt.subplots(nrows=1, ncols=2, figsize=(15,6))\n",
    "#     # titles for plots (1 common and 2 for subplots)\n",
    "#     plt.suptitle(classfier_name, fontsize=14)\n",
    "#     axes[0].title.set_text('Confusion Matrix (Train)')\n",
    "#     axes[1].title.set_text('Confusion Matrix (Val)')\n",
    "#     plot_confusion_matrix(model, X_train, Y_train, cmap=plt.cm.RdPu, ax=axes[0])\n",
    "#     plot_confusion_matrix(model, X_val, Y_val, cmap=plt.cm.GnBu, ax=axes[1])\n",
    "    \n",
    "    \n",
    "    # save its accuracy\n",
    "#     all_acc[classfier_name] = model_acc\n",
    "    \n",
    "    # save model\n",
    "    filename = '/Users/ashwinv/Documents/SEM5/dbms/project/'+classfier_name+'_model.pickle'\n",
    "    pickle.dump(model, open(filename, 'wb'))  \n",
    "    \n",
    "#     # load model\n",
    "#     loaded_model = pickle.load(open(filename, 'rb'))\n",
    "#     result = loaded_model.score(X_val, Y_val)     \n",
    "    \n",
    "#     # print results\n",
    "#     print(\"♦ {:<30} = {:<12} {:>10} = {:>12}\".format(classfier_name, round(model_acc, 7),\n",
    "#                                                    \"loaded_model score\", round(result, 7)))\n",
    "    \n",
    "    \n",
    "    \n",
    "# plt.show() # show plots in the end "
   ]
  },
  {
   "cell_type": "code",
   "execution_count": 136,
   "id": "360e0488",
   "metadata": {},
   "outputs": [
    {
     "data": {
      "text/plain": [
       "30"
      ]
     },
     "execution_count": 136,
     "metadata": {},
     "output_type": "execute_result"
    }
   ],
   "source": [
    "len(t)"
   ]
  },
  {
   "cell_type": "code",
   "execution_count": 147,
   "id": "6f540a7c",
   "metadata": {},
   "outputs": [],
   "source": [
    "import numpy as np\n",
    "arri = [-2.30334956758553,1.759247460267,-0.359744743330052,2.33024305053917,-0.821628328375422,-0.0757875706194599,0.562319782266954,-0.399146578487216,-0.238253367661746,-1.52541162656194,2.03291215755072,-6.56012429505962,0.0229373234890961,-1.47010153611197,-0.698826068579047,-2.28219382856251,-4.78183085597533,-2.61566494476124,-1.33444106667307,-0.430021867171611,-0.294166317554753,-0.932391057274991,0.172726295799422,-0.0873295379700724,-0.156114264651172,-0.542627889040196,0.0395659889264757,-0.153028796529788,239.93]\n",
    "t = np.array(arri)\n",
    "tn = t.reshape(1, -1) "
   ]
  },
  {
   "cell_type": "code",
   "execution_count": 148,
   "id": "1efb80e8",
   "metadata": {},
   "outputs": [
    {
     "data": {
      "text/plain": [
       "array([[-2.30334957e+00,  1.75924746e+00, -3.59744743e-01,\n",
       "         2.33024305e+00, -8.21628328e-01, -7.57875706e-02,\n",
       "         5.62319782e-01, -3.99146578e-01, -2.38253368e-01,\n",
       "        -1.52541163e+00,  2.03291216e+00, -6.56012430e+00,\n",
       "         2.29373235e-02, -1.47010154e+00, -6.98826069e-01,\n",
       "        -2.28219383e+00, -4.78183086e+00, -2.61566494e+00,\n",
       "        -1.33444107e+00, -4.30021867e-01, -2.94166318e-01,\n",
       "        -9.32391057e-01,  1.72726296e-01, -8.73295380e-02,\n",
       "        -1.56114265e-01, -5.42627889e-01,  3.95659889e-02,\n",
       "        -1.53028797e-01,  2.39930000e+02]])"
      ]
     },
     "execution_count": 148,
     "metadata": {},
     "output_type": "execute_result"
    }
   ],
   "source": [
    "tn"
   ]
  },
  {
   "cell_type": "code",
   "execution_count": 149,
   "id": "073d0e46",
   "metadata": {},
   "outputs": [],
   "source": [
    "modd = ['/Users/ashwinv/Documents/SEM5/dbms/project/LogisticRegression_model.pickle',\n",
    "'/Users/ashwinv/Documents/SEM5/dbms/project/AdaBoostClassifier_model.pickle',\n",
    "'/Users/ashwinv/Documents/SEM5/dbms/project/DecisionTreeClassifier_model.pickle',\n",
    "'/Users/ashwinv/Documents/SEM5/dbms/project/GaussianNB_model.pickle',\n",
    "'/Users/ashwinv/Documents/SEM5/dbms/project/GradientBoostingClassifier_model.pickle',\n",
    "'/Users/ashwinv/Documents/SEM5/dbms/project/KNeighborsClassifier_model.pickle',\n",
    "'/Users/ashwinv/Documents/SEM5/dbms/project/LinearDiscriminantAnalysis_model.pickle',\n",
    "'/Users/ashwinv/Documents/SEM5/dbms/project/QuadraticDiscriminantAnalysis_model.pickle',\n",
    "'/Users/ashwinv/Documents/SEM5/dbms/project/RandomForestClassifier_model.pickle',\n",
    "'/Users/ashwinv/Documents/SEM5/dbms/project/SVC_model.pickle']\n"
   ]
  },
  {
   "cell_type": "code",
   "execution_count": 150,
   "id": "67ca7c76",
   "metadata": {},
   "outputs": [
    {
     "name": "stdout",
     "output_type": "stream",
     "text": [
      "<class 'list'>\n",
      "<class 'list'>\n",
      "<class 'list'>\n",
      "<class 'list'>\n",
      "<class 'list'>\n",
      "<class 'list'>\n",
      "<class 'list'>\n",
      "<class 'list'>\n",
      "<class 'list'>\n",
      "<class 'list'>\n"
     ]
    }
   ],
   "source": [
    "lis = []\n",
    "for model in modd:\n",
    "    loaded_model = pickle.load(open(model, 'rb'))\n",
    "    result = loaded_model.predict(tn)\n",
    "    result = result.tolist()\n",
    "    print(type(result))\n",
    "    lis.append(result)\n",
    "    "
   ]
  },
  {
   "cell_type": "code",
   "execution_count": 151,
   "id": "ffc6b4b8",
   "metadata": {},
   "outputs": [],
   "source": [
    "from collections import Iterable\n",
    "def flatten(lis):\n",
    "    for item in lis:\n",
    "        if isinstance(item, Iterable) and not isinstance(item, str):\n",
    "            for x in flatten(item):\n",
    "                yield x\n",
    "        else:        \n",
    "             yield item\n"
   ]
  },
  {
   "cell_type": "code",
   "execution_count": 152,
   "id": "5c8706ab",
   "metadata": {},
   "outputs": [
    {
     "data": {
      "text/plain": [
       "[1.0, 1.0, 1.0, 0.0, 1.0, 0.0, 1.0, 1.0, 1.0, 0.0]"
      ]
     },
     "execution_count": 152,
     "metadata": {},
     "output_type": "execute_result"
    }
   ],
   "source": [
    "li = list(flatten(lis))\n",
    "li"
   ]
  },
  {
   "cell_type": "code",
   "execution_count": 153,
   "id": "b23068a8",
   "metadata": {},
   "outputs": [
    {
     "name": "stdout",
     "output_type": "stream",
     "text": [
      "fraud\n"
     ]
    }
   ],
   "source": [
    "import statistics\n",
    "from statistics import mode\n",
    "if(mode(li)==1):\n",
    "    print(\"fraud\")\n",
    "else:\n",
    "    print(\"not fraud\")"
   ]
  },
  {
   "cell_type": "code",
   "execution_count": null,
   "id": "8b616b6d",
   "metadata": {},
   "outputs": [],
   "source": []
  }
 ],
 "metadata": {
  "kernelspec": {
   "display_name": "Python 3",
   "language": "python",
   "name": "python3"
  },
  "language_info": {
   "codemirror_mode": {
    "name": "ipython",
    "version": 3
   },
   "file_extension": ".py",
   "mimetype": "text/x-python",
   "name": "python",
   "nbconvert_exporter": "python",
   "pygments_lexer": "ipython3",
   "version": "3.7.6"
  },
  "papermill": {
   "default_parameters": {},
   "duration": 929.978222,
   "end_time": "2021-09-02T12:40:40.149856",
   "environment_variables": {},
   "exception": null,
   "input_path": "__notebook__.ipynb",
   "output_path": "__notebook__.ipynb",
   "parameters": {},
   "start_time": "2021-09-02T12:25:10.171634",
   "version": "2.3.3"
  },
  "toc": {
   "base_numbering": 1,
   "nav_menu": {},
   "number_sections": true,
   "sideBar": true,
   "skip_h1_title": false,
   "title_cell": "Table of Contents",
   "title_sidebar": "Contents",
   "toc_cell": false,
   "toc_position": {},
   "toc_section_display": true,
   "toc_window_display": false
  },
  "varInspector": {
   "cols": {
    "lenName": 16,
    "lenType": 16,
    "lenVar": 40
   },
   "kernels_config": {
    "python": {
     "delete_cmd_postfix": "",
     "delete_cmd_prefix": "del ",
     "library": "var_list.py",
     "varRefreshCmd": "print(var_dic_list())"
    },
    "r": {
     "delete_cmd_postfix": ") ",
     "delete_cmd_prefix": "rm(",
     "library": "var_list.r",
     "varRefreshCmd": "cat(var_dic_list()) "
    }
   },
   "types_to_exclude": [
    "module",
    "function",
    "builtin_function_or_method",
    "instance",
    "_Feature"
   ],
   "window_display": false
  }
 },
 "nbformat": 4,
 "nbformat_minor": 5
}
